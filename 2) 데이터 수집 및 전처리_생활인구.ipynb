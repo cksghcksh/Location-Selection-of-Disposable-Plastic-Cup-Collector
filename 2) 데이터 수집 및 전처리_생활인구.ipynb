{
 "cells": [
  {
   "cell_type": "code",
   "execution_count": 1,
   "id": "5ade677d",
   "metadata": {},
   "outputs": [],
   "source": [
    "import pandas as pd"
   ]
  },
  {
   "cell_type": "code",
   "execution_count": 13,
   "id": "0a8f9abf",
   "metadata": {},
   "outputs": [],
   "source": [
    "data_d = pd.read_csv('datadata1.csv',encoding='cp949')\n",
    "data_l = pd.read_excel('data1_long.xlsx')\n",
    "data_s = pd.read_excel('data1_short.xlsx')"
   ]
  },
  {
   "cell_type": "code",
   "execution_count": 3,
   "id": "6be97c67",
   "metadata": {},
   "outputs": [],
   "source": [
    "data_d=data_d[['기준일ID','시간대구분','행정동코드','총생활인구수']]\n",
    "data_l=data_l[['기준일ID','시간대구분','행정동코드','총생활인구수']]\n",
    "data_s=data_s[['기준일ID','시간대구분','행정동코드','총생활인구수']]"
   ]
  },
  {
   "cell_type": "code",
   "execution_count": 28,
   "id": "17a568fc",
   "metadata": {
    "scrolled": true
   },
   "outputs": [],
   "source": [
    "data_s = data_s.groupby('행정동코드').sum()"
   ]
  },
  {
   "cell_type": "code",
   "execution_count": 29,
   "id": "547fa587",
   "metadata": {},
   "outputs": [],
   "source": [
    "data_d = data_d.groupby('행정동코드').sum()"
   ]
  },
  {
   "cell_type": "code",
   "execution_count": 30,
   "id": "f93e1c7f",
   "metadata": {},
   "outputs": [],
   "source": [
    "data_l = data_l.groupby('행정동코드').sum()"
   ]
  },
  {
   "cell_type": "code",
   "execution_count": 36,
   "id": "8c325682",
   "metadata": {},
   "outputs": [],
   "source": [
    "data_s.reset_index(inplace=True)\n",
    "data_d.reset_index(inplace=True)\n",
    "data_l.reset_index(inplace=True)"
   ]
  },
  {
   "cell_type": "code",
   "execution_count": 37,
   "id": "5d94ceeb",
   "metadata": {},
   "outputs": [
    {
     "data": {
      "text/html": [
       "<div>\n",
       "<style scoped>\n",
       "    .dataframe tbody tr th:only-of-type {\n",
       "        vertical-align: middle;\n",
       "    }\n",
       "\n",
       "    .dataframe tbody tr th {\n",
       "        vertical-align: top;\n",
       "    }\n",
       "\n",
       "    .dataframe thead th {\n",
       "        text-align: right;\n",
       "    }\n",
       "</style>\n",
       "<table border=\"1\" class=\"dataframe\">\n",
       "  <thead>\n",
       "    <tr style=\"text-align: right;\">\n",
       "      <th></th>\n",
       "      <th>행정동코드</th>\n",
       "      <th>기준일ID</th>\n",
       "      <th>시간대구분</th>\n",
       "      <th>총생활인구수</th>\n",
       "    </tr>\n",
       "  </thead>\n",
       "  <tbody>\n",
       "    <tr>\n",
       "      <th>0</th>\n",
       "      <td>11110515</td>\n",
       "      <td>15044435904</td>\n",
       "      <td>8556</td>\n",
       "      <td>353572.6738</td>\n",
       "    </tr>\n",
       "    <tr>\n",
       "      <th>1</th>\n",
       "      <td>11110530</td>\n",
       "      <td>15044435904</td>\n",
       "      <td>8556</td>\n",
       "      <td>840408.8261</td>\n",
       "    </tr>\n",
       "    <tr>\n",
       "      <th>2</th>\n",
       "      <td>11110540</td>\n",
       "      <td>15044435904</td>\n",
       "      <td>8556</td>\n",
       "      <td>223171.4329</td>\n",
       "    </tr>\n",
       "    <tr>\n",
       "      <th>3</th>\n",
       "      <td>11110550</td>\n",
       "      <td>15044435904</td>\n",
       "      <td>8556</td>\n",
       "      <td>183416.2613</td>\n",
       "    </tr>\n",
       "    <tr>\n",
       "      <th>4</th>\n",
       "      <td>11110560</td>\n",
       "      <td>15044435904</td>\n",
       "      <td>8556</td>\n",
       "      <td>95895.1725</td>\n",
       "    </tr>\n",
       "    <tr>\n",
       "      <th>...</th>\n",
       "      <td>...</td>\n",
       "      <td>...</td>\n",
       "      <td>...</td>\n",
       "      <td>...</td>\n",
       "    </tr>\n",
       "    <tr>\n",
       "      <th>419</th>\n",
       "      <td>11740650</td>\n",
       "      <td>14559131232</td>\n",
       "      <td>8280</td>\n",
       "      <td>52067.5319</td>\n",
       "    </tr>\n",
       "    <tr>\n",
       "      <th>420</th>\n",
       "      <td>11740660</td>\n",
       "      <td>14559131232</td>\n",
       "      <td>8280</td>\n",
       "      <td>90864.7843</td>\n",
       "    </tr>\n",
       "    <tr>\n",
       "      <th>421</th>\n",
       "      <td>11740685</td>\n",
       "      <td>14559131232</td>\n",
       "      <td>8280</td>\n",
       "      <td>100225.4452</td>\n",
       "    </tr>\n",
       "    <tr>\n",
       "      <th>422</th>\n",
       "      <td>11740690</td>\n",
       "      <td>14559131232</td>\n",
       "      <td>8280</td>\n",
       "      <td>7729.9116</td>\n",
       "    </tr>\n",
       "    <tr>\n",
       "      <th>423</th>\n",
       "      <td>11740700</td>\n",
       "      <td>14559131232</td>\n",
       "      <td>8280</td>\n",
       "      <td>44230.1355</td>\n",
       "    </tr>\n",
       "  </tbody>\n",
       "</table>\n",
       "<p>424 rows × 4 columns</p>\n",
       "</div>"
      ],
      "text/plain": [
       "        행정동코드        기준일ID  시간대구분       총생활인구수\n",
       "0    11110515  15044435904   8556  353572.6738\n",
       "1    11110530  15044435904   8556  840408.8261\n",
       "2    11110540  15044435904   8556  223171.4329\n",
       "3    11110550  15044435904   8556  183416.2613\n",
       "4    11110560  15044435904   8556   95895.1725\n",
       "..        ...          ...    ...          ...\n",
       "419  11740650  14559131232   8280   52067.5319\n",
       "420  11740660  14559131232   8280   90864.7843\n",
       "421  11740685  14559131232   8280  100225.4452\n",
       "422  11740690  14559131232   8280    7729.9116\n",
       "423  11740700  14559131232   8280   44230.1355\n",
       "\n",
       "[424 rows x 4 columns]"
      ]
     },
     "execution_count": 37,
     "metadata": {},
     "output_type": "execute_result"
    }
   ],
   "source": [
    "data_s"
   ]
  },
  {
   "cell_type": "code",
   "execution_count": 32,
   "id": "d584d60a",
   "metadata": {},
   "outputs": [],
   "source": [
    "hang = pd.read_csv('hang.csv',encoding='cp949')"
   ]
  },
  {
   "cell_type": "code",
   "execution_count": 33,
   "id": "bb8ecd34",
   "metadata": {},
   "outputs": [
    {
     "data": {
      "text/html": [
       "<div>\n",
       "<style scoped>\n",
       "    .dataframe tbody tr th:only-of-type {\n",
       "        vertical-align: middle;\n",
       "    }\n",
       "\n",
       "    .dataframe tbody tr th {\n",
       "        vertical-align: top;\n",
       "    }\n",
       "\n",
       "    .dataframe thead th {\n",
       "        text-align: right;\n",
       "    }\n",
       "</style>\n",
       "<table border=\"1\" class=\"dataframe\">\n",
       "  <thead>\n",
       "    <tr style=\"text-align: right;\">\n",
       "      <th></th>\n",
       "      <th>H_DNG_CD</th>\n",
       "      <th>DO_NM</th>\n",
       "      <th>CT_NM</th>\n",
       "      <th>H_DNG_NM</th>\n",
       "    </tr>\n",
       "  </thead>\n",
       "  <tbody>\n",
       "    <tr>\n",
       "      <th>0</th>\n",
       "      <td>11110530</td>\n",
       "      <td>서울</td>\n",
       "      <td>종로구</td>\n",
       "      <td>사직동</td>\n",
       "    </tr>\n",
       "    <tr>\n",
       "      <th>1</th>\n",
       "      <td>11110540</td>\n",
       "      <td>서울</td>\n",
       "      <td>종로구</td>\n",
       "      <td>삼청동</td>\n",
       "    </tr>\n",
       "    <tr>\n",
       "      <th>2</th>\n",
       "      <td>11110550</td>\n",
       "      <td>서울</td>\n",
       "      <td>종로구</td>\n",
       "      <td>부암동</td>\n",
       "    </tr>\n",
       "    <tr>\n",
       "      <th>3</th>\n",
       "      <td>11110560</td>\n",
       "      <td>서울</td>\n",
       "      <td>종로구</td>\n",
       "      <td>평창동</td>\n",
       "    </tr>\n",
       "    <tr>\n",
       "      <th>4</th>\n",
       "      <td>11110570</td>\n",
       "      <td>서울</td>\n",
       "      <td>종로구</td>\n",
       "      <td>무악동</td>\n",
       "    </tr>\n",
       "    <tr>\n",
       "      <th>...</th>\n",
       "      <td>...</td>\n",
       "      <td>...</td>\n",
       "      <td>...</td>\n",
       "      <td>...</td>\n",
       "    </tr>\n",
       "    <tr>\n",
       "      <th>419</th>\n",
       "      <td>11740690</td>\n",
       "      <td>서울</td>\n",
       "      <td>강동구</td>\n",
       "      <td>둔촌1동</td>\n",
       "    </tr>\n",
       "    <tr>\n",
       "      <th>420</th>\n",
       "      <td>11740700</td>\n",
       "      <td>서울</td>\n",
       "      <td>강동구</td>\n",
       "      <td>둔촌2동</td>\n",
       "    </tr>\n",
       "    <tr>\n",
       "      <th>421</th>\n",
       "      <td>11740570</td>\n",
       "      <td>서울</td>\n",
       "      <td>강동구</td>\n",
       "      <td>암사1동</td>\n",
       "    </tr>\n",
       "    <tr>\n",
       "      <th>422</th>\n",
       "      <td>11740610</td>\n",
       "      <td>서울</td>\n",
       "      <td>강동구</td>\n",
       "      <td>천호2동</td>\n",
       "    </tr>\n",
       "    <tr>\n",
       "      <th>423</th>\n",
       "      <td>11740685</td>\n",
       "      <td>서울</td>\n",
       "      <td>강동구</td>\n",
       "      <td>길동</td>\n",
       "    </tr>\n",
       "  </tbody>\n",
       "</table>\n",
       "<p>424 rows × 4 columns</p>\n",
       "</div>"
      ],
      "text/plain": [
       "     H_DNG_CD DO_NM CT_NM H_DNG_NM\n",
       "0    11110530    서울   종로구      사직동\n",
       "1    11110540    서울   종로구      삼청동\n",
       "2    11110550    서울   종로구      부암동\n",
       "3    11110560    서울   종로구      평창동\n",
       "4    11110570    서울   종로구      무악동\n",
       "..        ...   ...   ...      ...\n",
       "419  11740690    서울   강동구     둔촌1동\n",
       "420  11740700    서울   강동구     둔촌2동\n",
       "421  11740570    서울   강동구     암사1동\n",
       "422  11740610    서울   강동구     천호2동\n",
       "423  11740685    서울   강동구       길동\n",
       "\n",
       "[424 rows x 4 columns]"
      ]
     },
     "execution_count": 33,
     "metadata": {},
     "output_type": "execute_result"
    }
   ],
   "source": [
    "hang"
   ]
  },
  {
   "cell_type": "code",
   "execution_count": 50,
   "id": "0f2a39cb",
   "metadata": {},
   "outputs": [],
   "source": [
    "df1 = pd.merge(hang,data_d, left_on = 'H_DNG_CD', right_on = '행정동코드')\n",
    "df2 = pd.merge(hang,data_s, left_on = 'H_DNG_CD', right_on = '행정동코드')\n",
    "df3 = pd.merge(hang,data_l, left_on = 'H_DNG_CD', right_on = '행정동코드')"
   ]
  },
  {
   "cell_type": "code",
   "execution_count": 55,
   "id": "54e4a637",
   "metadata": {},
   "outputs": [],
   "source": [
    "df1 = df1[['CT_NM','H_DNG_NM','총생활인구수']]"
   ]
  },
  {
   "cell_type": "code",
   "execution_count": 56,
   "id": "ce049445",
   "metadata": {},
   "outputs": [],
   "source": [
    "df2 = df2[['CT_NM','H_DNG_NM','총생활인구수']]"
   ]
  },
  {
   "cell_type": "code",
   "execution_count": 57,
   "id": "6e2376f2",
   "metadata": {},
   "outputs": [],
   "source": [
    "df3 = df3[['CT_NM','H_DNG_NM','총생활인구수']]"
   ]
  },
  {
   "cell_type": "code",
   "execution_count": 59,
   "id": "2e1a5a9d",
   "metadata": {},
   "outputs": [
    {
     "name": "stderr",
     "output_type": "stream",
     "text": [
      "C:\\Users\\User\\anaconda3\\lib\\site-packages\\pandas\\core\\frame.py:5039: SettingWithCopyWarning: \n",
      "A value is trying to be set on a copy of a slice from a DataFrame\n",
      "\n",
      "See the caveats in the documentation: https://pandas.pydata.org/pandas-docs/stable/user_guide/indexing.html#returning-a-view-versus-a-copy\n",
      "  return super().rename(\n"
     ]
    }
   ],
   "source": [
    "df1.rename(columns={'총생활인구수':'dome_pop'},inplace=True)"
   ]
  },
  {
   "cell_type": "code",
   "execution_count": 60,
   "id": "f16e3f41",
   "metadata": {},
   "outputs": [],
   "source": [
    "df2.rename(columns={'총생활인구수':'short_pop'},inplace=True)"
   ]
  },
  {
   "cell_type": "code",
   "execution_count": 61,
   "id": "84e35f5b",
   "metadata": {},
   "outputs": [],
   "source": [
    "df3.rename(columns={'총생활인구수':'long_pop'},inplace=True)"
   ]
  },
  {
   "cell_type": "code",
   "execution_count": 67,
   "id": "02f75463",
   "metadata": {},
   "outputs": [],
   "source": [
    "df_total = pd.concat([df1,df2[['short_pop']]],axis=1)"
   ]
  },
  {
   "cell_type": "code",
   "execution_count": 69,
   "id": "86d082f0",
   "metadata": {},
   "outputs": [],
   "source": [
    "df_total = pd.concat([df_total,df3[['long_pop']]],axis=1)"
   ]
  },
  {
   "cell_type": "code",
   "execution_count": 70,
   "id": "adce0731",
   "metadata": {},
   "outputs": [
    {
     "data": {
      "text/html": [
       "<div>\n",
       "<style scoped>\n",
       "    .dataframe tbody tr th:only-of-type {\n",
       "        vertical-align: middle;\n",
       "    }\n",
       "\n",
       "    .dataframe tbody tr th {\n",
       "        vertical-align: top;\n",
       "    }\n",
       "\n",
       "    .dataframe thead th {\n",
       "        text-align: right;\n",
       "    }\n",
       "</style>\n",
       "<table border=\"1\" class=\"dataframe\">\n",
       "  <thead>\n",
       "    <tr style=\"text-align: right;\">\n",
       "      <th></th>\n",
       "      <th>CT_NM</th>\n",
       "      <th>H_DNG_NM</th>\n",
       "      <th>dome_pop</th>\n",
       "      <th>short_pop</th>\n",
       "      <th>long_pop</th>\n",
       "    </tr>\n",
       "  </thead>\n",
       "  <tbody>\n",
       "    <tr>\n",
       "      <th>0</th>\n",
       "      <td>종로구</td>\n",
       "      <td>사직동</td>\n",
       "      <td>1.932543e+07</td>\n",
       "      <td>840408.8261</td>\n",
       "      <td>590148.2572</td>\n",
       "    </tr>\n",
       "    <tr>\n",
       "      <th>1</th>\n",
       "      <td>종로구</td>\n",
       "      <td>삼청동</td>\n",
       "      <td>4.144586e+06</td>\n",
       "      <td>223171.4329</td>\n",
       "      <td>141471.1105</td>\n",
       "    </tr>\n",
       "    <tr>\n",
       "      <th>2</th>\n",
       "      <td>종로구</td>\n",
       "      <td>부암동</td>\n",
       "      <td>1.085919e+07</td>\n",
       "      <td>183416.2613</td>\n",
       "      <td>494544.4373</td>\n",
       "    </tr>\n",
       "    <tr>\n",
       "      <th>3</th>\n",
       "      <td>종로구</td>\n",
       "      <td>평창동</td>\n",
       "      <td>1.372030e+07</td>\n",
       "      <td>95895.1725</td>\n",
       "      <td>322906.8532</td>\n",
       "    </tr>\n",
       "    <tr>\n",
       "      <th>4</th>\n",
       "      <td>종로구</td>\n",
       "      <td>무악동</td>\n",
       "      <td>5.034156e+06</td>\n",
       "      <td>33373.2253</td>\n",
       "      <td>58867.5714</td>\n",
       "    </tr>\n",
       "    <tr>\n",
       "      <th>...</th>\n",
       "      <td>...</td>\n",
       "      <td>...</td>\n",
       "      <td>...</td>\n",
       "      <td>...</td>\n",
       "      <td>...</td>\n",
       "    </tr>\n",
       "    <tr>\n",
       "      <th>419</th>\n",
       "      <td>강동구</td>\n",
       "      <td>둔촌1동</td>\n",
       "      <td>3.382011e+06</td>\n",
       "      <td>7729.9116</td>\n",
       "      <td>58667.9088</td>\n",
       "    </tr>\n",
       "    <tr>\n",
       "      <th>420</th>\n",
       "      <td>강동구</td>\n",
       "      <td>둔촌2동</td>\n",
       "      <td>2.004724e+07</td>\n",
       "      <td>44230.1355</td>\n",
       "      <td>298032.9624</td>\n",
       "    </tr>\n",
       "    <tr>\n",
       "      <th>421</th>\n",
       "      <td>강동구</td>\n",
       "      <td>암사1동</td>\n",
       "      <td>2.018389e+07</td>\n",
       "      <td>33425.4061</td>\n",
       "      <td>288350.1735</td>\n",
       "    </tr>\n",
       "    <tr>\n",
       "      <th>422</th>\n",
       "      <td>강동구</td>\n",
       "      <td>천호2동</td>\n",
       "      <td>3.250224e+07</td>\n",
       "      <td>132789.9751</td>\n",
       "      <td>994249.8856</td>\n",
       "    </tr>\n",
       "    <tr>\n",
       "      <th>423</th>\n",
       "      <td>강동구</td>\n",
       "      <td>길동</td>\n",
       "      <td>4.041904e+07</td>\n",
       "      <td>100225.4452</td>\n",
       "      <td>725069.7628</td>\n",
       "    </tr>\n",
       "  </tbody>\n",
       "</table>\n",
       "<p>424 rows × 5 columns</p>\n",
       "</div>"
      ],
      "text/plain": [
       "    CT_NM H_DNG_NM      dome_pop    short_pop     long_pop\n",
       "0     종로구      사직동  1.932543e+07  840408.8261  590148.2572\n",
       "1     종로구      삼청동  4.144586e+06  223171.4329  141471.1105\n",
       "2     종로구      부암동  1.085919e+07  183416.2613  494544.4373\n",
       "3     종로구      평창동  1.372030e+07   95895.1725  322906.8532\n",
       "4     종로구      무악동  5.034156e+06   33373.2253   58867.5714\n",
       "..    ...      ...           ...          ...          ...\n",
       "419   강동구     둔촌1동  3.382011e+06    7729.9116   58667.9088\n",
       "420   강동구     둔촌2동  2.004724e+07   44230.1355  298032.9624\n",
       "421   강동구     암사1동  2.018389e+07   33425.4061  288350.1735\n",
       "422   강동구     천호2동  3.250224e+07  132789.9751  994249.8856\n",
       "423   강동구       길동  4.041904e+07  100225.4452  725069.7628\n",
       "\n",
       "[424 rows x 5 columns]"
      ]
     },
     "execution_count": 70,
     "metadata": {},
     "output_type": "execute_result"
    }
   ],
   "source": [
    "df_total"
   ]
  },
  {
   "cell_type": "code",
   "execution_count": 72,
   "id": "7c5e84a2",
   "metadata": {},
   "outputs": [],
   "source": [
    "df_total.to_csv('df_total2.csv',encoding='cp949')"
   ]
  },
  {
   "cell_type": "code",
   "execution_count": 1,
   "id": "f605df29",
   "metadata": {},
   "outputs": [],
   "source": [
    "import pandas as pd"
   ]
  },
  {
   "cell_type": "code",
   "execution_count": 3,
   "id": "7945dfea",
   "metadata": {},
   "outputs": [],
   "source": [
    "aa= pd.read_csv('df_total2.csv',encoding='cp949')"
   ]
  },
  {
   "cell_type": "code",
   "execution_count": 5,
   "id": "ebf7b974",
   "metadata": {},
   "outputs": [
    {
     "data": {
      "text/html": [
       "<div>\n",
       "<style scoped>\n",
       "    .dataframe tbody tr th:only-of-type {\n",
       "        vertical-align: middle;\n",
       "    }\n",
       "\n",
       "    .dataframe tbody tr th {\n",
       "        vertical-align: top;\n",
       "    }\n",
       "\n",
       "    .dataframe thead th {\n",
       "        text-align: right;\n",
       "    }\n",
       "</style>\n",
       "<table border=\"1\" class=\"dataframe\">\n",
       "  <thead>\n",
       "    <tr style=\"text-align: right;\">\n",
       "      <th></th>\n",
       "      <th>GU</th>\n",
       "      <th>DONG</th>\n",
       "      <th>dome_pop</th>\n",
       "      <th>short_pop</th>\n",
       "      <th>long_pop</th>\n",
       "    </tr>\n",
       "  </thead>\n",
       "  <tbody>\n",
       "    <tr>\n",
       "      <th>0</th>\n",
       "      <td>종로구</td>\n",
       "      <td>사직동</td>\n",
       "      <td>1.932543e+07</td>\n",
       "      <td>840408.8261</td>\n",
       "      <td>590148.2572</td>\n",
       "    </tr>\n",
       "    <tr>\n",
       "      <th>1</th>\n",
       "      <td>종로구</td>\n",
       "      <td>삼청동</td>\n",
       "      <td>4.144586e+06</td>\n",
       "      <td>223171.4329</td>\n",
       "      <td>141471.1105</td>\n",
       "    </tr>\n",
       "    <tr>\n",
       "      <th>2</th>\n",
       "      <td>종로구</td>\n",
       "      <td>부암동</td>\n",
       "      <td>1.085919e+07</td>\n",
       "      <td>183416.2613</td>\n",
       "      <td>494544.4373</td>\n",
       "    </tr>\n",
       "    <tr>\n",
       "      <th>3</th>\n",
       "      <td>종로구</td>\n",
       "      <td>평창동</td>\n",
       "      <td>1.372030e+07</td>\n",
       "      <td>95895.1725</td>\n",
       "      <td>322906.8532</td>\n",
       "    </tr>\n",
       "    <tr>\n",
       "      <th>4</th>\n",
       "      <td>종로구</td>\n",
       "      <td>무악동</td>\n",
       "      <td>5.034156e+06</td>\n",
       "      <td>33373.2253</td>\n",
       "      <td>58867.5714</td>\n",
       "    </tr>\n",
       "  </tbody>\n",
       "</table>\n",
       "</div>"
      ],
      "text/plain": [
       "    GU DONG      dome_pop    short_pop     long_pop\n",
       "0  종로구  사직동  1.932543e+07  840408.8261  590148.2572\n",
       "1  종로구  삼청동  4.144586e+06  223171.4329  141471.1105\n",
       "2  종로구  부암동  1.085919e+07  183416.2613  494544.4373\n",
       "3  종로구  평창동  1.372030e+07   95895.1725  322906.8532\n",
       "4  종로구  무악동  5.034156e+06   33373.2253   58867.5714"
      ]
     },
     "execution_count": 5,
     "metadata": {},
     "output_type": "execute_result"
    }
   ],
   "source": [
    "aa.head()"
   ]
  },
  {
   "cell_type": "code",
   "execution_count": 6,
   "id": "19d0c925",
   "metadata": {},
   "outputs": [],
   "source": [
    "aa['total'] = aa['dome_pop'] + aa['short_pop'] + aa['long_pop']"
   ]
  },
  {
   "cell_type": "code",
   "execution_count": 8,
   "id": "ed5edf89",
   "metadata": {},
   "outputs": [],
   "source": [
    "ff = aa[['GU','DONG','total']]"
   ]
  },
  {
   "cell_type": "code",
   "execution_count": 9,
   "id": "85f99f01",
   "metadata": {},
   "outputs": [
    {
     "data": {
      "text/html": [
       "<div>\n",
       "<style scoped>\n",
       "    .dataframe tbody tr th:only-of-type {\n",
       "        vertical-align: middle;\n",
       "    }\n",
       "\n",
       "    .dataframe tbody tr th {\n",
       "        vertical-align: top;\n",
       "    }\n",
       "\n",
       "    .dataframe thead th {\n",
       "        text-align: right;\n",
       "    }\n",
       "</style>\n",
       "<table border=\"1\" class=\"dataframe\">\n",
       "  <thead>\n",
       "    <tr style=\"text-align: right;\">\n",
       "      <th></th>\n",
       "      <th>GU</th>\n",
       "      <th>DONG</th>\n",
       "      <th>total</th>\n",
       "    </tr>\n",
       "  </thead>\n",
       "  <tbody>\n",
       "    <tr>\n",
       "      <th>0</th>\n",
       "      <td>종로구</td>\n",
       "      <td>사직동</td>\n",
       "      <td>2.075599e+07</td>\n",
       "    </tr>\n",
       "    <tr>\n",
       "      <th>1</th>\n",
       "      <td>종로구</td>\n",
       "      <td>삼청동</td>\n",
       "      <td>4.509229e+06</td>\n",
       "    </tr>\n",
       "    <tr>\n",
       "      <th>2</th>\n",
       "      <td>종로구</td>\n",
       "      <td>부암동</td>\n",
       "      <td>1.153715e+07</td>\n",
       "    </tr>\n",
       "    <tr>\n",
       "      <th>3</th>\n",
       "      <td>종로구</td>\n",
       "      <td>평창동</td>\n",
       "      <td>1.413910e+07</td>\n",
       "    </tr>\n",
       "    <tr>\n",
       "      <th>4</th>\n",
       "      <td>종로구</td>\n",
       "      <td>무악동</td>\n",
       "      <td>5.126397e+06</td>\n",
       "    </tr>\n",
       "    <tr>\n",
       "      <th>...</th>\n",
       "      <td>...</td>\n",
       "      <td>...</td>\n",
       "      <td>...</td>\n",
       "    </tr>\n",
       "    <tr>\n",
       "      <th>419</th>\n",
       "      <td>강동구</td>\n",
       "      <td>둔촌1동</td>\n",
       "      <td>3.448409e+06</td>\n",
       "    </tr>\n",
       "    <tr>\n",
       "      <th>420</th>\n",
       "      <td>강동구</td>\n",
       "      <td>둔촌2동</td>\n",
       "      <td>2.038950e+07</td>\n",
       "    </tr>\n",
       "    <tr>\n",
       "      <th>421</th>\n",
       "      <td>강동구</td>\n",
       "      <td>암사1동</td>\n",
       "      <td>2.050567e+07</td>\n",
       "    </tr>\n",
       "    <tr>\n",
       "      <th>422</th>\n",
       "      <td>강동구</td>\n",
       "      <td>천호2동</td>\n",
       "      <td>3.362928e+07</td>\n",
       "    </tr>\n",
       "    <tr>\n",
       "      <th>423</th>\n",
       "      <td>강동구</td>\n",
       "      <td>길동</td>\n",
       "      <td>4.124433e+07</td>\n",
       "    </tr>\n",
       "  </tbody>\n",
       "</table>\n",
       "<p>424 rows × 3 columns</p>\n",
       "</div>"
      ],
      "text/plain": [
       "      GU  DONG         total\n",
       "0    종로구   사직동  2.075599e+07\n",
       "1    종로구   삼청동  4.509229e+06\n",
       "2    종로구   부암동  1.153715e+07\n",
       "3    종로구   평창동  1.413910e+07\n",
       "4    종로구   무악동  5.126397e+06\n",
       "..   ...   ...           ...\n",
       "419  강동구  둔촌1동  3.448409e+06\n",
       "420  강동구  둔촌2동  2.038950e+07\n",
       "421  강동구  암사1동  2.050567e+07\n",
       "422  강동구  천호2동  3.362928e+07\n",
       "423  강동구    길동  4.124433e+07\n",
       "\n",
       "[424 rows x 3 columns]"
      ]
     },
     "execution_count": 9,
     "metadata": {},
     "output_type": "execute_result"
    }
   ],
   "source": [
    "ff"
   ]
  },
  {
   "cell_type": "code",
   "execution_count": 16,
   "id": "2a24af55",
   "metadata": {},
   "outputs": [
    {
     "data": {
      "text/plain": [
       "count    4.240000e+02\n",
       "mean     1.894334e+07\n",
       "std      9.878919e+06\n",
       "min      2.724775e+06\n",
       "25%      1.245184e+07\n",
       "50%      1.681566e+07\n",
       "75%      2.310202e+07\n",
       "max      8.229709e+07\n",
       "Name: total, dtype: float64"
      ]
     },
     "execution_count": 16,
     "metadata": {},
     "output_type": "execute_result"
    }
   ],
   "source": [
    "ff.total.describe()"
   ]
  },
  {
   "cell_type": "code",
   "execution_count": null,
   "id": "723cf884",
   "metadata": {},
   "outputs": [],
   "source": []
  }
 ],
 "metadata": {
  "kernelspec": {
   "display_name": "Python 3 (ipykernel)",
   "language": "python",
   "name": "python3"
  },
  "language_info": {
   "codemirror_mode": {
    "name": "ipython",
    "version": 3
   },
   "file_extension": ".py",
   "mimetype": "text/x-python",
   "name": "python",
   "nbconvert_exporter": "python",
   "pygments_lexer": "ipython3",
   "version": "3.9.7"
  }
 },
 "nbformat": 4,
 "nbformat_minor": 5
}
